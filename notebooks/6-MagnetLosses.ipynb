{
 "cells": [
  {
   "cell_type": "markdown",
   "metadata": {},
   "source": [
    "# Magnet Losses Calculation with IALH Method"
   ]
  },
  {
   "cell_type": "code",
   "execution_count": 1,
   "metadata": {},
   "outputs": [],
   "source": [
    "import femagtools\n",
    "import pathlib\n",
    "import logging\n",
    "\n",
    "logging.basicConfig(level=logging.INFO,\n",
    "                    format='%(asctime)s %(message)s')"
   ]
  },
  {
   "cell_type": "markdown",
   "metadata": {},
   "source": [
    "## Define a machine model"
   ]
  },
  {
   "cell_type": "code",
   "execution_count": 2,
   "metadata": {},
   "outputs": [],
   "source": [
    "machine = dict(\n",
    "    name=\"PM130L4\",\n",
    "    lfe=30e-3,\n",
    "    poles=10,\n",
    "    outer_diam=0.1,\n",
    "    bore_diam=0.055,\n",
    "    inner_diam=0.035,\n",
    "    airgap=0.001,\n",
    "    stator=dict(\n",
    "        num_slots=12,\n",
    "        statorfsl=dict(\n",
    "            sw=0.005,\n",
    "            tw=0.007,\n",
    "            slot_h1=0.0017,\n",
    "            slot_h2=0.002)\n",
    "    ),\n",
    "    magnet=dict(\n",
    "        magnetfsl=dict(\n",
    "           hm=3e-3,\n",
    "           bm=11.205e-3\n",
    "        )\n",
    "    ),\n",
    "\n",
    "    windings=dict(\n",
    "        num_phases=3,\n",
    "        num_wires=10,\n",
    "        coil_span=1,\n",
    "        num_layers=2)\n",
    ")"
   ]
  },
  {
   "cell_type": "markdown",
   "metadata": {},
   "source": [
    "## Define a PM/Reluctance Simulation"
   ]
  },
  {
   "cell_type": "code",
   "execution_count": 3,
   "metadata": {},
   "outputs": [
    {
     "name": "stderr",
     "output_type": "stream",
     "text": [
      "2023-10-22 14:15:34,394 MC Dir /home/tar/projects/femagtools/notebooks\n"
     ]
    }
   ],
   "source": [
    "workdir = pathlib.Path().home() / 'femag'\n",
    "workdir.mkdir(parents=True, exist_ok=True)\n",
    "\n",
    "femag = femagtools.Femag(workdir)\n",
    "simulation = dict(\n",
    "    angl_i_up=0,\n",
    "    calculationMode=\"pm_sym_fast\",\n",
    "    wind_temp=60.0,\n",
    "    magn_temp=20.0,\n",
    "    current=30.0,\n",
    "    speed=8000/60,\n",
    "    num_move_steps=-73,\n",
    "    period_frac=6,\n",
    "    magnet_loss=True)   # set magnet_loss\n"
   ]
  },
  {
   "cell_type": "markdown",
   "metadata": {},
   "source": [
    "## Run simulation"
   ]
  },
  {
   "cell_type": "code",
   "execution_count": 4,
   "metadata": {},
   "outputs": [
    {
     "name": "stderr",
     "output_type": "stream",
     "text": [
      "2023-10-22 14:15:34,400 [30, 12]\n",
      "2023-10-22 14:15:34,401 create new model 'PM130L4'\n",
      "2023-10-22 14:15:34,417 create simulation 'pm_sym_fast'\n",
      "2023-10-22 14:15:34,425 invoking /home/tar/bin/xfemag64 -b femag.fsl\n",
      "2023-10-22 14:15:34,440  > FSL...exe \"femag.fsl\"\n",
      "2023-10-22 14:15:34,440  > New model \"PM130L4\", \"\"\n",
      "2023-10-22 14:15:37,377  > 1  -1.40584947E-04\n",
      "2023-10-22 14:15:40,474  > 1  -1.69586856E-04\n",
      "2023-10-22 14:15:42,832  > Save model and close files\n",
      "2023-10-22 14:15:42,859  > FSL...halt\n",
      "2023-10-22 14:15:42,886 /home/tar/bin/xfemag64 exited with returncode 0 (num errs=0)\n",
      "2023-10-22 14:15:42,888 Read BCH /home/tar/femag/PM130L4_018.BATCH\n",
      "2023-10-22 14:15:42,892 Evaluating magnet losses...\n",
      "2023-10-22 14:15:43,545 Total nodes 5995 elements 10794 superelements 67 subregions 14\n",
      "2023-10-22 14:15:44,239 Total nodes 5995 elements 10794 superelements 67 subregions 14\n",
      "2023-10-22 14:15:44,385 magnet width and height: 11.20mm 3.08mm\n",
      "2023-10-22 14:15:45,154 magnet width and height: 11.20mm 3.08mm\n"
     ]
    }
   ],
   "source": [
    "r = femag(machine, simulation)"
   ]
  },
  {
   "cell_type": "markdown",
   "metadata": {},
   "source": [
    "Analyze magnet losses of all load cases: noload, angl=0"
   ]
  },
  {
   "cell_type": "code",
   "execution_count": 5,
   "metadata": {},
   "outputs": [
    {
     "name": "stdout",
     "output_type": "stream",
     "text": [
      "Magnet Losses: \n",
      "J2: 5.004W B2: 7.402W IALH: 4.552W\n",
      "J2: 5.004W B2: 7.402W IALH: 4.552W\n",
      "J2: 11.212W B2: 15.979W IALH: 9.588W\n"
     ]
    }
   ],
   "source": [
    "print(\"Magnet Losses: \")\n",
    "for i in r.losses: \n",
    "    print(f'J2: {i[\"magnetJ\"]}W B2: {i[\"magnetB\"]}W IALH: {i[\"magnetH\"]:.3f}W')"
   ]
  },
  {
   "cell_type": "markdown",
   "metadata": {},
   "source": [
    "Show bar plot"
   ]
  },
  {
   "cell_type": "code",
   "execution_count": 6,
   "metadata": {},
   "outputs": [
    {
     "data": {
      "image/png": "[encoded data removed]",
      "text/plain": [
       "<Figure size 640x480 with 1 Axes>"
      ]
     },
     "metadata": {},
     "output_type": "display_data"
    }
   ],
   "source": [
    "import matplotlib.pyplot as plt\n",
    "\n",
    "keys = \"magnetJ\",\"magnetB\",\"magnetH\"\n",
    "width = 0.25  # the width of the bars\n",
    "\n",
    "fig, ax = plt.subplots()\n",
    "for i, k in enumerate(keys):\n",
    "    rects = ax.bar(i, r.losses[-1][k], width)\n",
    "    ax.bar_label(rects, padding=3)\n",
    "\n",
    "ax.set_ylabel('Loss / W')\n",
    "ax.set_xticks(range(len(keys)), keys)\n",
    "ax.grid()"
   ]
  }
 ],
 "metadata": {
  "kernelspec": {
   "display_name": "femagtools",
   "language": "python",
   "name": "femagtools"
  },
  "language_info": {
   "codemirror_mode": {
    "name": "ipython",
    "version": 3
   },
   "file_extension": ".py",
   "mimetype": "text/x-python",
   "name": "python",
   "nbconvert_exporter": "python",
   "pygments_lexer": "ipython3",
   "version": "3.11.5"
  },
  "vscode": {
   "interpreter": {
    "hash": "916dbcbb3f70747c44a77c7bcd40155683ae19c65e1c03b4aa3499c5328201f1"
   }
  }
 },
 "nbformat": 4,
 "nbformat_minor": 4
}
