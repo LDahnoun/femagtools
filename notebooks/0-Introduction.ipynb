{
 "cells": [
  {
   "cell_type": "markdown",
   "metadata": {},
   "source": [
    "# Introduction to Femagtools"
   ]
  },
  {
   "cell_type": "markdown",
   "metadata": {},
   "source": [
    "<img src=\"femagtools.png\">\n",
    "\n",
    "Femagtools is an Open-Source Python-API for FEMAG based on Numpy, Scipy, Mako and Matplotlib. It offers following features:\n",
    "\n",
    "* Create Machine Models from geometry templates, DXF, GMSH\n",
    "* Manage material properties (lamination, magnet, conductor)\n",
    "* Design and analyze windings (EMF, windingfactors, layout)\n",
    "* Invoke FE simulations (DC, AC, TH, ME, TS) that can be executed\n",
    "  locally (single and multi-core), remote (ZMQ), HT Condor, Cloud (Amazon AWS, Google Cloud), Docker \n",
    "* Process results (BCH/BATCH, PLT, ERG, ASM, LOS)\n",
    "* Read model files I7/ISA7/NC\n",
    "* Create a variety of plots\n",
    "* Machine Sizing and parameter identification\n",
    "* Machine characteristics and efficiency maps\n",
    "* Parameter studies and multi-objective optimization\n",
    "\n",
    "The package can be used with Python 3.x on Linux, MacOS or Windows and is hosted on github: <https://github.com/SEMAFORInformatik/femagtools/>` where also many examples can be found in the examples directory. Contributions and feedback to this project are highly welcome.\n",
    "\n",
    "The installation can be done in the usual ways with pip or conda.\n",
    "\n",
    "For details see the documentation <https://scripts.profemag.ch/content/femagtools.html>"
   ]
  },
  {
   "cell_type": "markdown",
   "metadata": {},
   "source": [
    "## Contents\n",
    "\n",
    "* [Model Creation and FE-Simulation](1-ModelsAndFemag.ipynb)\n",
    "* [Material Handling](2-MaterialHandling.ipynb)\n",
    "* [Windings](3-Windings.ipynb)\n",
    "* [Processing BCH/BATCH Files](4-BchFileReader.ipynb)\n",
    "* [Machine Characteristics and Efficiency Maps](5-MachineCharacteristicsEfficiencyMaps.ipynb)\n",
    "* [Magnet Loss Calculation Using IALH Method](6-MagnetLosses.ipynb)\n",
    "* [Parameter Variation and Optimization](7-ParameterVariationAndOptimization.ipynb)"
   ]
  },
  {
   "cell_type": "markdown",
   "metadata": {},
   "source": [
    "## Modules and Scripts\n",
    "\n",
    "The package provides following modules:\n",
    "\n",
    "* __mcv__, __tks__, __jhb__, __losscoeffs__: handling magnetizing curves and iron losses\n",
    "* __erg__, __bch__, __isa7__: read I7/ISA7, ERG, BCH/BATCH files created by FEMAG\n",
    "* __convert__: convert I7/ISA7 to Gmsh mesh and other formats\n",
    "* __model__, __fsl__: create machine and calculation models\n",
    "* __dxfsl__: convert DXF to FSL\n",
    "* __femag__: manage the FEMAG calculation\n",
    "* __airgap__: read airgap induction file created by a previous calculation\n",
    "* __machine__: analytical machine models\n",
    "* __grid__: running parameter variations\n",
    "* __opt__: running multi objective optimizations\n",
    "* __plot__: creating plots\n",
    "* __isa7__, __nc__: access model files\n",
    "* __windings__: create and analyze windings\n",
    "* __amazon__, __google__, __condor__, __multiproc__: engines for the calculation in Cloud and HTCondor environments or locally using multiple cores\n",
    "\n",
    "The following modules can be executed as script:\n",
    "\n",
    "* __bch__: print content in json format if invoked witha BCH/BATCH file as argument\n",
    "* __bchxml__: produces an XML file when invoked with a BCH/BATCH file as argument\n",
    "* __plot__: produces a graphical report of a BCH/BATCH file\n",
    "* __airgap__: prints the base harmonic amplitude of the radial component of the airgap induction when invoked with the file name of an airgap induction file\n",
    "* __mcv__: print content in json format if invoked with a MC/MCV file as argument\n",
    "* __dxfsl.conv__: convert DXF to FSL\n",
    "\n",
    "Example: create a plot af a BCH file:"
   ]
  },
  {
   "cell_type": "raw",
   "metadata": {},
   "source": [
    "python -m femagtools.plot TEST_001.BCH"
   ]
  },
  {
   "cell_type": "markdown",
   "metadata": {},
   "source": [
    "In addition you will find command line tools:\n",
    "\n",
    "* femagtools-plot\n",
    "* femagtools-convert\n",
    "* femagtools-bchxml\n",
    "* femagtools-dxfsl\n"
   ]
  },
  {
   "cell_type": "markdown",
   "metadata": {},
   "source": [
    "## Usage\n",
    "For simple applications it is sufficient to import femagtools:"
   ]
  },
  {
   "cell_type": "code",
   "execution_count": 1,
   "metadata": {},
   "outputs": [],
   "source": [
    "import femagtools"
   ]
  },
  {
   "cell_type": "markdown",
   "metadata": {},
   "source": [
    "The version can be checked with:"
   ]
  },
  {
   "cell_type": "code",
   "execution_count": 2,
   "metadata": {},
   "outputs": [
    {
     "data": {
      "text/plain": [
       "'1.5.5dev'"
      ]
     },
     "execution_count": 2,
     "metadata": {},
     "output_type": "execute_result"
    }
   ],
   "source": [
    "femagtools.__version__"
   ]
  }
 ],
 "metadata": {
  "kernelspec": {
   "display_name": "femagtools",
   "language": "python",
   "name": "femagtools"
  },
  "language_info": {
   "codemirror_mode": {
    "name": "ipython",
    "version": 3
   },
   "file_extension": ".py",
   "mimetype": "text/x-python",
   "name": "python",
   "nbconvert_exporter": "python",
   "pygments_lexer": "ipython3",
   "version": "3.11.7"
  }
 },
 "nbformat": 4,
 "nbformat_minor": 4
}
