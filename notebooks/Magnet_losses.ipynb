{
 "cells": [
  {
   "attachments": {},
   "cell_type": "markdown",
   "metadata": {},
   "source": [
    "# Magnet Losses Calculation with IALH Method"
   ]
  },
  {
   "cell_type": "code",
   "execution_count": 38,
   "metadata": {},
   "outputs": [],
   "source": [
    "import femagtools\n",
    "import femagtools.amela\n",
    "import pathlib\n",
    "import logging\n",
    "import math\n",
    "\n",
    "logging.basicConfig(level=logging.INFO,\n",
    "                    format='%(asctime)s %(message)s')"
   ]
  },
  {
   "attachments": {},
   "cell_type": "markdown",
   "metadata": {},
   "source": [
    "## Define a machine"
   ]
  },
  {
   "cell_type": "code",
   "execution_count": 39,
   "metadata": {},
   "outputs": [],
   "source": [
    "machine = dict(\n",
    "    name=\"PM130L4\",\n",
    "    lfe=30e-3,\n",
    "    poles=10,\n",
    "    outer_diam=0.1,\n",
    "    bore_diam=0.055,\n",
    "    inner_diam=0.035,\n",
    "    airgap=0.001,\n",
    "    stator=dict(\n",
    "        num_slots=12,\n",
    "        statorfsl=dict(\n",
    "            sw=0.005,\n",
    "            tw=0.007,\n",
    "            slot_h1=0.0017,\n",
    "            slot_h2=0.002)\n",
    "    ),\n",
    "    magnet=dict(\n",
    "        magnetfsl=dict(\n",
    "           hm=3e-3,\n",
    "           bm=11.205e-3\n",
    "        )\n",
    "    ),\n",
    "\n",
    "    windings=dict(\n",
    "        num_phases=3,\n",
    "        num_wires=10,\n",
    "        coil_span=1,\n",
    "        num_layers=2)\n",
    ")"
   ]
  },
  {
   "attachments": {},
   "cell_type": "markdown",
   "metadata": {},
   "source": [
    "## Define a PM/Reluctance Simulation"
   ]
  },
  {
   "cell_type": "code",
   "execution_count": 40,
   "metadata": {},
   "outputs": [],
   "source": [
    "workdir = pathlib.Path().home() / 'femag'\n",
    "workdir.mkdir(parents=True, exist_ok=True)\n",
    "\n",
    "femag = femagtools.Femag(workdir)\n",
    "simulation = dict(\n",
    "    angl_i_up=0,\n",
    "    calculationMode=\"pm_sym_fast\",\n",
    "    wind_temp=60.0,\n",
    "    magn_temp=20.0,\n",
    "    current=30.0/math.sqrt(2),\n",
    "    speed=8000/60,\n",
    "    num_move_steps=-73,\n",
    "    period_frac=1,\n",
    "    magnet_loss=True)   # set magnet_loss\n"
   ]
  },
  {
   "attachments": {},
   "cell_type": "markdown",
   "metadata": {},
   "source": [
    "## Run simulation and output the magnet losses with different methods"
   ]
  },
  {
   "cell_type": "code",
   "execution_count": 42,
   "metadata": {},
   "outputs": [
    {
     "name": "stderr",
     "output_type": "stream",
     "text": [
      "2023-07-19 11:31:43,921 create new model 'PM130L4'\n",
      "2023-07-19 11:31:43,950 create simulation 'pm_sym_fast'\n",
      "2023-07-19 11:31:43,960 invoking /usr/local/bin/xfemag64 -b femag.fsl\n",
      "2023-07-19 11:31:43,985  > FSL...exe \"femag.fsl\"\n",
      "2023-07-19 11:31:43,987  > New model \"PM130L4\", \"\"\n",
      "2023-07-19 11:32:42,953  > Save model and close files\n",
      "2023-07-19 11:32:42,986  > FSL...halt\n",
      "2023-07-19 11:32:42,993 /usr/local/bin/xfemag64 exited with returncode 0 (num errs=0)\n",
      "2023-07-19 11:32:42,996 Read BCH /home/dapu/femag/PM130L4_027.BATCH\n",
      "2023-07-19 11:32:43,002 Evaluating magnet losses...\n",
      "2023-07-19 11:32:44,097 Total nodes 5995 elements 10794 superelements 67 subregions 14\n",
      "2023-07-19 11:32:45,349 Total nodes 5995 elements 10794 superelements 67 subregions 14\n",
      "2023-07-19 11:32:45,490 magnet width and height: 11.20mm 3.08mm\n",
      "2023-07-19 11:33:12,720 magnet width and height: 11.20mm 3.08mm\n"
     ]
    },
    {
     "name": "stdout",
     "output_type": "stream",
     "text": [
      "Magnet Losses: \n",
      "J2: 5.004W B2: 7.402W IALH: 4.552W\n",
      "J2: 5.004W B2: 7.402W IALH: 4.552W\n",
      "J2: 8.133W B2: 12.092W IALH: 7.070W\n"
     ]
    }
   ],
   "source": [
    "r = femag(machine,\n",
    "          simulation)\n",
    "\n",
    "print(\"Magnet Losses: \")\n",
    "for i in r.losses: \n",
    "    print(f'J2: {i[\"magnetJ\"]}W B2: {i[\"magnetB\"]}W IALH: {i[\"magnetH\"]:.3f}W')"
   ]
  }
 ],
 "metadata": {
  "kernelspec": {
   "display_name": "Python 3",
   "language": "python",
   "name": "python3"
  },
  "language_info": {
   "codemirror_mode": {
    "name": "ipython",
    "version": 3
   },
   "file_extension": ".py",
   "mimetype": "text/x-python",
   "name": "python",
   "nbconvert_exporter": "python",
   "pygments_lexer": "ipython3",
   "version": "3.10.6"
  },
  "orig_nbformat": 4,
  "vscode": {
   "interpreter": {
    "hash": "916dbcbb3f70747c44a77c7bcd40155683ae19c65e1c03b4aa3499c5328201f1"
   }
  }
 },
 "nbformat": 4,
 "nbformat_minor": 2
}
