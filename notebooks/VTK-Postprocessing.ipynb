{
 "cells": [
  {
   "cell_type": "markdown",
   "id": "1e42367a",
   "metadata": {},
   "source": [
    "# Postprocessing VTK/VTU Files\n",
    "\n",
    "The Visualization Toolkit (VTK) is a popular open source software for manipulating and displaying scientific data.\n",
    "FEMAG model file (ISA7/I7, NC) can be converted into a VTU file which is VTK file format for unstructured grids."
   ]
  },
  {
   "cell_type": "code",
   "execution_count": 1,
   "id": "727de525",
   "metadata": {},
   "outputs": [],
   "source": [
    "import femagtools.convert\n",
    "import femagtools.nc\n",
    "\n",
    "model = 'PM270L8'\n",
    "nc = femagtools.nc.read(model)\n",
    "femagtools.convert.to_vtu(nc, model+'.vtu')"
   ]
  },
  {
   "cell_type": "markdown",
   "id": "11902043",
   "metadata": {},
   "source": [
    "In addition VTU files can be created when running a simulation using the parameter m.movie_type = 'vtu'.\n",
    "\n",
    "The VTU files contain the mesh together with the simulation results a such as the vector potential, flux densities etc.\n",
    "\n",
    "This notebook gives an overview of postprocessing these files with Python using the modules vtk and pyvista."
   ]
  },
  {
   "cell_type": "code",
   "execution_count": 2,
   "id": "18e3919d",
   "metadata": {},
   "outputs": [],
   "source": [
    "import vtk"
   ]
  },
  {
   "cell_type": "code",
   "execution_count": 3,
   "id": "3ff7b9bc",
   "metadata": {},
   "outputs": [],
   "source": [
    "reader = vtk.vtkXMLUnstructuredGridReader()\n",
    "reader.SetFileName(model+'.vtu')\n",
    "reader.Update()\n",
    "output = reader.GetOutput()"
   ]
  },
  {
   "cell_type": "markdown",
   "id": "3c1678bf",
   "metadata": {},
   "source": [
    "Print names of cell data arrays:"
   ]
  },
  {
   "cell_type": "code",
   "execution_count": 4,
   "id": "7ac4cb94",
   "metadata": {},
   "outputs": [
    {
     "data": {
      "text/plain": [
       "['GeometryIds',\n",
       " 'PhysicalIds',\n",
       " 'b',\n",
       " 'Demagnetization',\n",
       " 'Rel. Permeability',\n",
       " 'Iron Loss Dens.',\n",
       " 'Mag. Loss Dens.',\n",
       " 'Wdg. Loss Dens.']"
      ]
     },
     "execution_count": 4,
     "metadata": {},
     "output_type": "execute_result"
    }
   ],
   "source": [
    "[output.GetCellData().GetAbstractArray(i).GetName()\n",
    "            for i in range(output.GetCellData().GetNumberOfArrays())]"
   ]
  },
  {
   "cell_type": "markdown",
   "id": "d8d955ee",
   "metadata": {},
   "source": [
    "Get values of demagnetization"
   ]
  },
  {
   "cell_type": "code",
   "execution_count": 5,
   "id": "3da5a72d",
   "metadata": {},
   "outputs": [],
   "source": [
    "from vtk.util.numpy_support import vtk_to_numpy\n",
    "demag = vtk_to_numpy(output.GetCellData().GetArray('Demagnetization'))"
   ]
  },
  {
   "cell_type": "markdown",
   "id": "915cf1fc",
   "metadata": {},
   "source": [
    "Show a histogram"
   ]
  },
  {
   "cell_type": "code",
   "execution_count": 6,
   "id": "f73e72f9",
   "metadata": {},
   "outputs": [
    {
     "data": {
      "image/png": "[encoded data removed]",
      "text/plain": [
       "<Figure size 432x288 with 1 Axes>"
      ]
     },
     "metadata": {
      "needs_background": "light"
     },
     "output_type": "display_data"
    }
   ],
   "source": [
    "import matplotlib.pyplot as plt\n",
    "plt.hist(demag[demag!=0.0], bins=20, density=True, alpha=0.3)\n",
    "plt.xlabel('Demagnetization / kA / m')\n",
    "plt.grid()"
   ]
  },
  {
   "cell_type": "markdown",
   "id": "e268cd5e",
   "metadata": {},
   "source": [
    "# Using pyvista\n",
    "\n",
    "The pyvista module provides a simplified access:"
   ]
  },
  {
   "cell_type": "code",
   "execution_count": 7,
   "id": "31038f86",
   "metadata": {},
   "outputs": [],
   "source": [
    "import pyvista as pv"
   ]
  },
  {
   "cell_type": "code",
   "execution_count": 8,
   "id": "c377c0cd",
   "metadata": {},
   "outputs": [],
   "source": [
    "mesh = pv.read(model+'.vtu')"
   ]
  },
  {
   "cell_type": "code",
   "execution_count": 9,
   "id": "dc3ba962",
   "metadata": {},
   "outputs": [
    {
     "data": {
      "text/html": [
       "<table><tr><th>Header</th><th>Data Arrays</th></tr><tr><td>\n",
       "<table>\n",
       "<tr><th>UnstructuredGrid</th><th>Information</th></tr>\n",
       "<tr><td>N Cells</td><td>11360</td></tr>\n",
       "<tr><td>N Points</td><td>7128</td></tr>\n",
       "<tr><td>X Bounds</td><td>3.253e-02, 1.375e-01</td></tr>\n",
       "<tr><td>Y Bounds</td><td>-1.639e-08, 9.723e-02</td></tr>\n",
       "<tr><td>Z Bounds</td><td>0.000e+00, 0.000e+00</td></tr>\n",
       "<tr><td>N Arrays</td><td>9</td></tr>\n",
       "</table>\n",
       "\n",
       "</td><td>\n",
       "<table>\n",
       "<tr><th>Name</th><th>Field</th><th>Type</th><th>N Comp</th><th>Min</th><th>Max</th></tr>\n",
       "<tr><td>potential</td><td>Points</td><td>float32</td><td>1</td><td>-3.633e-02</td><td>1.283e-02</td></tr>\n",
       "<tr><td>GeometryIds</td><td>Cells</td><td>int64</td><td>1</td><td>0.000e+00</td><td>1.020e+02</td></tr>\n",
       "<tr><td>PhysicalIds</td><td>Cells</td><td>int64</td><td>1</td><td>1.000e+00</td><td>2.800e+01</td></tr>\n",
       "<tr><td>b</td><td>Cells</td><td>float64</td><td>3</td><td>-2.580e+00</td><td>3.154e+00</td></tr>\n",
       "<tr><td>Demagnetization</td><td>Cells</td><td>float64</td><td>1</td><td>0.000e+00</td><td>7.139e+02</td></tr>\n",
       "<tr><td>Rel. Permeability</td><td>Cells</td><td>float64</td><td>1</td><td>0.000e+00</td><td>7.631e+03</td></tr>\n",
       "<tr><td>Iron Loss Dens.</td><td>Cells</td><td>float64</td><td>1</td><td>0.000e+00</td><td>1.138e+06</td></tr>\n",
       "<tr><td>Mag. Loss Dens.</td><td>Cells</td><td>float64</td><td>1</td><td>0.000e+00</td><td>0.000e+00</td></tr>\n",
       "<tr><td>Wdg. Loss Dens.</td><td>Cells</td><td>float64</td><td>1</td><td>0.000e+00</td><td>5.202e+06</td></tr>\n",
       "</table>\n",
       "\n",
       "</td></tr> </table>"
      ],
      "text/plain": [
       "UnstructuredGrid (0x7effd98221c0)\n",
       "  N Cells:\t11360\n",
       "  N Points:\t7128\n",
       "  X Bounds:\t3.253e-02, 1.375e-01\n",
       "  Y Bounds:\t-1.639e-08, 9.723e-02\n",
       "  Z Bounds:\t0.000e+00, 0.000e+00\n",
       "  N Arrays:\t9"
      ]
     },
     "execution_count": 9,
     "metadata": {},
     "output_type": "execute_result"
    }
   ],
   "source": [
    "mesh"
   ]
  },
  {
   "cell_type": "code",
   "execution_count": 10,
   "id": "a749d363",
   "metadata": {},
   "outputs": [
    {
     "data": {
      "application/vnd.jupyter.widget-view+json": {
       "model_id": "1e4dade1b5dd4f919ed7607ff0a48c3b",
       "version_major": 2,
       "version_minor": 0
      },
      "text/plain": [
       "ViewInteractiveWidget(height=768, layout=Layout(height='auto', width='100%'), width=1024)"
      ]
     },
     "metadata": {},
     "output_type": "display_data"
    }
   ],
   "source": [
    "mesh.plot(show_scalar_bar=False, show_axes=False, show_edges=True, cpos='xy')"
   ]
  },
  {
   "cell_type": "code",
   "execution_count": 11,
   "id": "e07ba330",
   "metadata": {},
   "outputs": [
    {
     "data": {
      "application/vnd.jupyter.widget-view+json": {
       "model_id": "b3aea243022a43a087119ec2eb52f438",
       "version_major": 2,
       "version_minor": 0
      },
      "text/plain": [
       "ViewInteractiveWidget(height=768, layout=Layout(height='auto', width='100%'), width=1024)"
      ]
     },
     "metadata": {},
     "output_type": "display_data"
    }
   ],
   "source": [
    "plotter = pv.Plotter(notebook=True)\n",
    "plotter.enable_anti_aliasing()\n",
    "plotter.add_mesh(mesh,scalars='Demagnetization')\n",
    "plotter.view_xy()\n",
    "plotter.show()"
   ]
  },
  {
   "cell_type": "code",
   "execution_count": 12,
   "id": "6b7e94f7",
   "metadata": {},
   "outputs": [
    {
     "data": {
      "application/vnd.jupyter.widget-view+json": {
       "model_id": "eabbec9eda2a4c64b91732ad8a1a612b",
       "version_major": 2,
       "version_minor": 0
      },
      "text/plain": [
       "ViewInteractiveWidget(height=768, layout=Layout(height='auto', width='100%'), width=1024)"
      ]
     },
     "metadata": {},
     "output_type": "display_data"
    }
   ],
   "source": [
    "plotter = pv.Plotter(notebook=True)\n",
    "mesh = pv.read(model+'.vtu')\n",
    "contours = mesh.contour(isosurfaces=20, scalars='potential')\n",
    "actor = plotter.add_mesh(mesh,scalars='b')\n",
    "actor = plotter.add_mesh(contours, show_scalar_bar=False)\n",
    "plotter.view_xy()\n",
    "plotter.show()"
   ]
  }
 ],
 "metadata": {
  "kernelspec": {
   "display_name": "Python 3 (ipykernel)",
   "language": "python",
   "name": "python3"
  },
  "language_info": {
   "codemirror_mode": {
    "name": "ipython",
    "version": 3
   },
   "file_extension": ".py",
   "mimetype": "text/x-python",
   "name": "python",
   "nbconvert_exporter": "python",
   "pygments_lexer": "ipython3",
   "version": "3.9.13"
  }
 },
 "nbformat": 4,
 "nbformat_minor": 5
}
