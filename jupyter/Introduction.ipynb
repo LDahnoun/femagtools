{
 "cells": [
  {
   "cell_type": "markdown",
   "metadata": {},
   "source": [
    "# Introduction to Femagtools"
   ]
  },
  {
   "cell_type": "markdown",
   "metadata": {},
   "source": [
    "<img src=\"femagtools.png\">\n",
    "\n",
    "Femagtools is an Open-Source Python-API for FEMAG based on Numpy, Scipy, Mako and Matplolib. It offers following features:\n",
    "\n",
    "* run Femag with a FSL script file anywhere:\n",
    "  locally (single and multi-core), remote (ZMQ), HT Condor, Cloud (Amazon AWS, Google Cloud)\n",
    "* read BCH/BATCH\n",
    "* read and write MCV files (magnetizing curves)\n",
    "* create a variety of plots\n",
    "* create FSL files from model and calculation templates and/or user specific FSL \n",
    "* calculate machine characteristics by using analytic machine models\n",
    "* execute parameter studies and multi-objective optimization\n",
    "\n",
    "The package can be used with Python 2.7 or 3.x on Linux or Windows and is hosted on github: <https://github.com/SEMAFORInformatik/femagtools/>` where also many examples can be found in the examples directory. Contributions and feedback to this project are highly welcome.\n",
    "\n",
    "The installation can be done in the usual ways with pip or conda.\n",
    "\n",
    "For details see the documentation <http://docs.semafor.ch/femagtools>"
   ]
  },
  {
   "cell_type": "markdown",
   "metadata": {},
   "source": [
    "## Contents\n",
    "\n",
    "* [Material Handling](MaterialHandling.ipynb)\n",
    "* [Reading BCH/BATCH Files](BchFileReader.ipynb)\n",
    "* [Model Creation and FEMAG Invocation](ModelsAndFemag.ipynb)\n",
    "* [Machine Characteristics](MachineCharacteristics.ipynb)\n",
    "* [Parameter Variation and Optimization](ParameterVariationAndOptimization.ipynb)"
   ]
  },
  {
   "cell_type": "markdown",
   "metadata": {},
   "source": [
    "## Modules and Scripts\n",
    "\n",
    "The package provides following modules:\n",
    "\n",
    "* __mcv__, __tks__, __jhb__, __losscoeffs__: handling magnetizing curves and iron losses\n",
    "* __erg__, __bch__: read ERG, BCH/BATCH files created by FEMAG\n",
    "* __model__: create machine and calculation models\n",
    "* __femag__: manage the FEMAG calculation\n",
    "* __airgap__: read airgap induction file created by a previous calculation\n",
    "* __machine__: analytical machine models\n",
    "* __grid__: running parameter variations\n",
    "* __opt__: running multi objective optimizations\n",
    "* __plot__: creating plots\n",
    "* __amazon__, __google__, __condor__, __multiproc__: engines for the calculation in Cloud and HTCondor environments or locally using multiple cores\n",
    "\n",
    "The following modules can be executed as script:\n",
    "\n",
    "* __bch__: print content in json format if invoked witha BCH/BATCH file as argument\n",
    "* __bchxml__: produces an XML file when invoked with a BCH/BATCH file as argument\n",
    "* __plot__: produces a graphical report of a BCH/BATCH file\n",
    "* __airgap__: prints the base harmonic amplitude of the radial component of the airgap induction when invoked with the file name of an airgap induction file\n",
    "* __mcv__: print content in json format if invoked with a MC/MCV file as argument\n",
    "\n",
    "Example: create a plot af a BCH file:"
   ]
  },
  {
   "cell_type": "raw",
   "metadata": {},
   "source": [
    "python -m femagtools.plot TEST_001.BCH"
   ]
  },
  {
   "cell_type": "markdown",
   "metadata": {},
   "source": [
    "## Usage\n",
    "For simple applications it is sufficient to import femagtools:"
   ]
  },
  {
   "cell_type": "code",
   "execution_count": 1,
   "metadata": {},
   "outputs": [],
   "source": [
    "import femagtools"
   ]
  },
  {
   "cell_type": "markdown",
   "metadata": {},
   "source": [
    "The version can be checked with:"
   ]
  },
  {
   "cell_type": "code",
   "execution_count": 2,
   "metadata": {},
   "outputs": [
    {
     "data": {
      "text/plain": [
       "'0.3.2'"
      ]
     },
     "execution_count": 2,
     "metadata": {},
     "output_type": "execute_result"
    }
   ],
   "source": [
    "femagtools.__version__"
   ]
  }
 ],
 "metadata": {
  "kernelspec": {
   "display_name": "femagtools-workshop",
   "language": "python",
   "name": "femagtools-workshop"
  },
  "language_info": {
   "codemirror_mode": {
    "name": "ipython",
    "version": 3
   },
   "file_extension": ".py",
   "mimetype": "text/x-python",
   "name": "python",
   "nbconvert_exporter": "python",
   "pygments_lexer": "ipython3",
   "version": "3.4.5"
  }
 },
 "nbformat": 4,
 "nbformat_minor": 2
}
